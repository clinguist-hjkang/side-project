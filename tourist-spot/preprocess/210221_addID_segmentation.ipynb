{
 "cells": [
  {
   "cell_type": "code",
   "execution_count": 61,
   "metadata": {},
   "outputs": [],
   "source": [
    "import pandas as pd"
   ]
  },
  {
   "cell_type": "code",
   "execution_count": 62,
   "metadata": {},
   "outputs": [
    {
     "data": {
      "text/html": [
       "<div>\n",
       "<style scoped>\n",
       "    .dataframe tbody tr th:only-of-type {\n",
       "        vertical-align: middle;\n",
       "    }\n",
       "\n",
       "    .dataframe tbody tr th {\n",
       "        vertical-align: top;\n",
       "    }\n",
       "\n",
       "    .dataframe thead th {\n",
       "        text-align: right;\n",
       "    }\n",
       "</style>\n",
       "<table border=\"1\" class=\"dataframe\">\n",
       "  <thead>\n",
       "    <tr style=\"text-align: right;\">\n",
       "      <th></th>\n",
       "      <th>title</th>\n",
       "      <th>content</th>\n",
       "      <th>ratings</th>\n",
       "      <th>writen_date</th>\n",
       "      <th>experienced_date</th>\n",
       "    </tr>\n",
       "  </thead>\n",
       "  <tbody>\n",
       "    <tr>\n",
       "      <th>0</th>\n",
       "      <td>Good</td>\n",
       "      <td>I used to ride the subway every day since I mo...</td>\n",
       "      <td>4.0</td>\n",
       "      <td>11-2020</td>\n",
       "      <td>11-2020</td>\n",
       "    </tr>\n",
       "    <tr>\n",
       "      <th>1</th>\n",
       "      <td>Clean, cheap and easy to use.</td>\n",
       "      <td>Seoul Metro is so efficient, it gets me from A...</td>\n",
       "      <td>5.0</td>\n",
       "      <td>11-2020</td>\n",
       "      <td>11-2020</td>\n",
       "    </tr>\n",
       "    <tr>\n",
       "      <th>2</th>\n",
       "      <td>Question</td>\n",
       "      <td>I have a question for people who has travelled...</td>\n",
       "      <td>5.0</td>\n",
       "      <td>10-2020</td>\n",
       "      <td>10-2020</td>\n",
       "    </tr>\n",
       "    <tr>\n",
       "      <th>3</th>\n",
       "      <td>It’s the metro, I got there.</td>\n",
       "      <td>First time going solo and I made it. All the s...</td>\n",
       "      <td>5.0</td>\n",
       "      <td>10-2020</td>\n",
       "      <td>10-2020</td>\n",
       "    </tr>\n",
       "    <tr>\n",
       "      <th>4</th>\n",
       "      <td>Best service</td>\n",
       "      <td>Love seoul metro. Service is good. It's neat a...</td>\n",
       "      <td>5.0</td>\n",
       "      <td>08-2020</td>\n",
       "      <td>08-2020</td>\n",
       "    </tr>\n",
       "  </tbody>\n",
       "</table>\n",
       "</div>"
      ],
      "text/plain": [
       "                           title  \\\n",
       "0                           Good   \n",
       "1  Clean, cheap and easy to use.   \n",
       "2                       Question   \n",
       "3   It’s the metro, I got there.   \n",
       "4                   Best service   \n",
       "\n",
       "                                             content  ratings writen_date  \\\n",
       "0  I used to ride the subway every day since I mo...      4.0     11-2020   \n",
       "1  Seoul Metro is so efficient, it gets me from A...      5.0     11-2020   \n",
       "2  I have a question for people who has travelled...      5.0     10-2020   \n",
       "3  First time going solo and I made it. All the s...      5.0     10-2020   \n",
       "4  Love seoul metro. Service is good. It's neat a...      5.0     08-2020   \n",
       "\n",
       "  experienced_date  \n",
       "0          11-2020  \n",
       "1          11-2020  \n",
       "2          10-2020  \n",
       "3          10-2020  \n",
       "4          08-2020  "
      ]
     },
     "execution_count": 62,
     "metadata": {},
     "output_type": "execute_result"
    }
   ],
   "source": [
    "df = pd.read_csv(\"data/210220_seoul-metro.csv\")\n",
    "df.head()"
   ]
  },
  {
   "cell_type": "code",
   "execution_count": 63,
   "metadata": {},
   "outputs": [],
   "source": [
    "df.insert(0, \"reviewer_id\", 'R_' + df.index.astype(str))"
   ]
  },
  {
   "cell_type": "code",
   "execution_count": 64,
   "metadata": {},
   "outputs": [],
   "source": [
    "#remove double spaces\n",
    "df['title'] = df['title'].str.replace(r' +', ' ')\n",
    "df['content'] = df['content'].str.replace(r' +', ' ')"
   ]
  },
  {
   "cell_type": "raw",
   "metadata": {},
   "source": [
    "df_test = df.iloc[:2,:]\n",
    "df_test"
   ]
  },
  {
   "cell_type": "markdown",
   "metadata": {},
   "source": [
    "# Segmentation "
   ]
  },
  {
   "cell_type": "code",
   "execution_count": 65,
   "metadata": {},
   "outputs": [],
   "source": [
    "from nltk.tokenize import sent_tokenize\n",
    "df[\"content\"] = df[\"content\"].apply(lambda x: sent_tokenize(x))"
   ]
  },
  {
   "cell_type": "code",
   "execution_count": 66,
   "metadata": {},
   "outputs": [],
   "source": [
    "#https://towardsdatascience.com/tokenize-text-columns-into-sentences-in-pandas-2c08bc1ca790\n",
    "df = df.explode(\"content\", ignore_index=True)"
   ]
  },
  {
   "cell_type": "code",
   "execution_count": 67,
   "metadata": {},
   "outputs": [
    {
     "data": {
      "text/html": [
       "<div>\n",
       "<style scoped>\n",
       "    .dataframe tbody tr th:only-of-type {\n",
       "        vertical-align: middle;\n",
       "    }\n",
       "\n",
       "    .dataframe tbody tr th {\n",
       "        vertical-align: top;\n",
       "    }\n",
       "\n",
       "    .dataframe thead th {\n",
       "        text-align: right;\n",
       "    }\n",
       "</style>\n",
       "<table border=\"1\" class=\"dataframe\">\n",
       "  <thead>\n",
       "    <tr style=\"text-align: right;\">\n",
       "      <th></th>\n",
       "      <th>reviewer_id</th>\n",
       "      <th>title</th>\n",
       "      <th>content</th>\n",
       "      <th>ratings</th>\n",
       "      <th>writen_date</th>\n",
       "      <th>experienced_date</th>\n",
       "    </tr>\n",
       "  </thead>\n",
       "  <tbody>\n",
       "    <tr>\n",
       "      <th>0</th>\n",
       "      <td>R_0</td>\n",
       "      <td>Good</td>\n",
       "      <td>I used to ride the subway every day since I mo...</td>\n",
       "      <td>4.0</td>\n",
       "      <td>11-2020</td>\n",
       "      <td>11-2020</td>\n",
       "    </tr>\n",
       "    <tr>\n",
       "      <th>1</th>\n",
       "      <td>R_0</td>\n",
       "      <td>Good</td>\n",
       "      <td>I've never been late for school.</td>\n",
       "      <td>4.0</td>\n",
       "      <td>11-2020</td>\n",
       "      <td>11-2020</td>\n",
       "    </tr>\n",
       "    <tr>\n",
       "      <th>2</th>\n",
       "      <td>R_0</td>\n",
       "      <td>Good</td>\n",
       "      <td>The only problem is too many people are gather...</td>\n",
       "      <td>4.0</td>\n",
       "      <td>11-2020</td>\n",
       "      <td>11-2020</td>\n",
       "    </tr>\n",
       "    <tr>\n",
       "      <th>3</th>\n",
       "      <td>R_0</td>\n",
       "      <td>Good</td>\n",
       "      <td>I think this is a chronic problem.</td>\n",
       "      <td>4.0</td>\n",
       "      <td>11-2020</td>\n",
       "      <td>11-2020</td>\n",
       "    </tr>\n",
       "    <tr>\n",
       "      <th>4</th>\n",
       "      <td>R_0</td>\n",
       "      <td>Good</td>\n",
       "      <td>However, the overall review is…</td>\n",
       "      <td>4.0</td>\n",
       "      <td>11-2020</td>\n",
       "      <td>11-2020</td>\n",
       "    </tr>\n",
       "  </tbody>\n",
       "</table>\n",
       "</div>"
      ],
      "text/plain": [
       "  reviewer_id title                                            content  \\\n",
       "0         R_0  Good  I used to ride the subway every day since I mo...   \n",
       "1         R_0  Good                   I've never been late for school.   \n",
       "2         R_0  Good  The only problem is too many people are gather...   \n",
       "3         R_0  Good                 I think this is a chronic problem.   \n",
       "4         R_0  Good                    However, the overall review is…   \n",
       "\n",
       "   ratings writen_date experienced_date  \n",
       "0      4.0     11-2020          11-2020  \n",
       "1      4.0     11-2020          11-2020  \n",
       "2      4.0     11-2020          11-2020  \n",
       "3      4.0     11-2020          11-2020  \n",
       "4      4.0     11-2020          11-2020  "
      ]
     },
     "execution_count": 67,
     "metadata": {},
     "output_type": "execute_result"
    }
   ],
   "source": [
    "df.head()"
   ]
  },
  {
   "cell_type": "code",
   "execution_count": 69,
   "metadata": {},
   "outputs": [],
   "source": [
    "df.to_csv(\"data/210221_seoul-metro-segmented.csv\", index = False, header=True)"
   ]
  }
 ],
 "metadata": {
  "kernelspec": {
   "display_name": "Python [conda env:anaconda3]",
   "language": "python",
   "name": "conda-env-anaconda3-py"
  },
  "language_info": {
   "codemirror_mode": {
    "name": "ipython",
    "version": 3
   },
   "file_extension": ".py",
   "mimetype": "text/x-python",
   "name": "python",
   "nbconvert_exporter": "python",
   "pygments_lexer": "ipython3",
   "version": "3.7.4"
  }
 },
 "nbformat": 4,
 "nbformat_minor": 2
}
